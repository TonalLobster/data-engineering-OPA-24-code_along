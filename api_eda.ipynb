{
 "cells": [
  {
   "cell_type": "code",
   "execution_count": 2,
   "id": "803f5adc",
   "metadata": {},
   "outputs": [
    {
     "name": "stdout",
     "output_type": "stream",
     "text": [
      "Lärare franska åk 6-9 Entréskolan Uppsala, Amisgo AB\n",
      "JENSEN gymnasium Uppsala söker lärare i franska, Jensen Education AB\n",
      "Lärare lovskola åk 8 och 9 till Uppsala kommun, Uppsala kommun\n",
      "JENSEN gymnasium Uppsala söker lärare i matematik och fysik, 100%, Jensen Education AB\n",
      "Vi söker lärare i ekonomi till Drottning Blankas Gymnasieskola i Uppsala, DBGY Kronan AB\n",
      "Vi söker lärare i svenska till Drottning Blankas Gymnasieskola i Uppsala, DBGY Kronan AB\n",
      "Lärare i spanska samt matematik och/eller svenska 6-9, Uppsala kommun\n",
      "Lärare i svenska och engelska, Uppsala kommun\n",
      "Gymnasielärare till Rosendalsgymnasiet , Uppsala kommun\n",
      "Lärare i svenska och/eller engelska, Amerikanska Gymnasiet i Sverige AB\n",
      "Lärare i matematik och/eller naturkunskap, Amerikanska Gymnasiet i Sverige AB\n",
      "Lärare i idrott och/eller psykologi, Amerikanska Gymnasiet i Sverige AB\n",
      "Lärare i Spanska, Amerikanska Gymnasiet i Sverige AB\n",
      "Gymnasielärare till Grillska Gymnasiet Uppsala, Stadsmissionens Skolstift\n",
      "Lärare F-3 till Jumkils skola , Uppsala kommun\n",
      "Grundskollärare 4-9 till Stavby skola , Uppsala kommun\n",
      "Lärare åk 4-5 till Jumkils skola , Uppsala kommun\n",
      "Katarinaskolan söker lärare i textilslöjd, Heliga Katarinas Skolstift\n",
      "Lärare i svenska, matematik, engelska och so åk 4-6 till Bergaskolan, Uppsala kommun\n",
      "Gymnasielärare i Historia, Filosofi och Psykologi, Edukatus Alliance AB\n",
      "Gymnasielärare i Spanska, Edukatus Alliance AB\n",
      "Lärare åk 4-6 på Kvarngärdesskolan, Uppsala kommun\n",
      "Gymnasielärare i Naturkunskap, Edukatus Alliance AB\n",
      "Är du vår nya lärare för åk 7-9?, Gluntens Montessoriskola AB\n",
      "Gymnasielärare i engelska, NTI Gymnasiet Macro AB\n",
      "Gymnasielärare i webbutveckling och programmering, NTI Gymnasiet Macro AB\n",
      "Gymnasielärare i musikproduktion, NTI Gymnasiet Macro AB\n",
      "Gymnasielärare till Lundellska skolan, Uppsala kommun\n",
      "Yrkeslärare till Hantverksprogrammet-Makeup, Lärande i Sverige AB\n",
      "Lärare i trä- och metallslöjd till Liljeforsskolan, Uppsala kommun\n",
      "Yrkeslärare till Transportprogrammet på Bergstrands gymnasium Uppsala, Bergstrands Gymnasium AB\n",
      "Gymnasielärare i samhällskunskap och historia - vikariat, Bergstrands Gymnasium AB\n",
      "Vi söker vårdlärare till Drottning Blankas Gymnasieskola i Uppsala, DBGY Kronan AB\n",
      "Mentor till Drottning Blankas gymnasieskola Uppsala, DBGY Kronan AB\n",
      "Vi söker lärare i matematik och naturkunskap till Drottning Blankas Gymnasi, DBGY Kronan AB\n",
      "SO-lärare till Bärbyskolan, Statens Institutionsstyrelse\n",
      "JENSEN grundskola Kåbo F-3 söker lärare i fritidshem på 75 %, Jensen Education AB\n",
      "JENSEN grundskola Kåbo F-3 söker lärare i fritidshem 100%, Jensen Education AB\n",
      "Förskollärare och lärare till olika skolformer, Clockwork Bemanning & Rekrytering AB\n",
      "Katarinaskolan söker lärare i engelska och matematik, Heliga Katarinas Skolstift\n",
      "Lärare Psykiatri, Kompetensutvecklingsinst Sverige AB\n",
      "Lärare på gymnasiet i teknik 14%, Ansgarskolorna AB\n",
      "Lärare på gymnasiet i geografi 16%, Ansgarskolorna AB\n",
      "Lärare på gymnasiet i entreprenörskap 20%, Ansgarskolorna AB\n",
      "Lärare på gymnasiet i ledarskap och organisation 14%, Ansgarskolorna AB\n",
      "Lärare på gymnasiet i matematik 16%, Ansgarskolorna AB\n",
      "Lärare på gymnasiet i musik 42%, estetiskt program, Ansgarskolorna AB\n",
      "Lärare i musik 55%, Ansgarskolorna AB\n",
      "Lärare i textilslöjd 50%, Ansgarskolorna AB\n",
      "Lärare i Trä- och metallslöjd, Ansgarskolorna AB\n",
      "Grundlärare mot fritidshem, Ansgarskolorna AB\n",
      "Lärare i matematik 35%, Ansgarskolorna AB\n",
      "Lärare i spanska ca 30%, Ansgarskolorna AB\n",
      "Lärare i teknik 50%, Ansgarskolorna AB\n",
      "Lärare El- och energiprogrammet vuxenutbildning, Movant AB\n",
      "Lärare i Svenska, STEAM Education holding AB\n"
     ]
    }
   ],
   "source": [
    "import requests\n",
    "import json\n",
    "\n",
    "url = 'https://jobsearch.api.jobtechdev.se'\n",
    "url_for_search = f\"{url}/search\"\n",
    "\n",
    "\n",
    "def _get_ads(params):\n",
    "    headers = {'accept': 'application/json'}\n",
    "    response = requests.get(url_for_search, headers=headers, params=params)\n",
    "    response.raise_for_status()  # check for http errors\n",
    "    return json.loads(response.content.decode('utf8'))\n",
    "\n",
    "\n",
    "def example_search_return_number_of_hits(query):\n",
    "    # limit: 0 means no ads, just a value of how many ads were found.\n",
    "    search_params = {'q': query, 'limit': 0}\n",
    "    json_response = _get_ads(search_params)\n",
    "    number_of_hits = json_response['total']['value']\n",
    "    print(f\"\\nNumber of hits = {number_of_hits}\")\n",
    "\n",
    "\n",
    "def example_search_loop_through_hits(query):\n",
    "    # limit = 100 is the max number of hits that can be returned.\n",
    "    # If there are more (which you find with ['total']['value'] in the json response)\n",
    "    # you have to use offset and multiple requests to get all ads.\n",
    "    search_params = {'q': query, 'limit': 100}\n",
    "    json_response = _get_ads(search_params)\n",
    "    hits = json_response['hits']\n",
    "    for hit in hits:\n",
    "        print(f\"{hit['headline']}, {hit['employer']['name']}\")\n",
    "\n",
    "\n",
    "query = 'lärare uppsala'\n",
    "example_search_loop_through_hits(query)\n"
   ]
  },
  {
   "cell_type": "code",
   "execution_count": 3,
   "id": "c3bd32e3",
   "metadata": {},
   "outputs": [
    {
     "name": "stdout",
     "output_type": "stream",
     "text": [
      "\n",
      "Number of hits = 56\n"
     ]
    }
   ],
   "source": [
    "example_search_return_number_of_hits(query)"
   ]
  },
  {
   "cell_type": "code",
   "execution_count": 7,
   "id": "9724eff3",
   "metadata": {},
   "outputs": [],
   "source": [
    "search_params = {'q': query, 'limit': 100}\n",
    "json_response = _get_ads(search_params)\n",
    "#json_response"
   ]
  },
  {
   "cell_type": "code",
   "execution_count": 8,
   "id": "1f5134d6",
   "metadata": {},
   "outputs": [
    {
     "data": {
      "text/plain": [
       "dict_keys(['total', 'positions', 'query_time_in_millis', 'result_time_in_millis', 'stats', 'freetext_concepts', 'hits'])"
      ]
     },
     "execution_count": 8,
     "metadata": {},
     "output_type": "execute_result"
    }
   ],
   "source": [
    "json_response.keys()"
   ]
  },
  {
   "cell_type": "code",
   "execution_count": 10,
   "id": "3157fe6c",
   "metadata": {},
   "outputs": [
    {
     "data": {
      "text/plain": [
       "56"
      ]
     },
     "execution_count": 10,
     "metadata": {},
     "output_type": "execute_result"
    }
   ],
   "source": [
    "len(json_response[\"hits\"])"
   ]
  },
  {
   "cell_type": "code",
   "execution_count": 14,
   "id": "b9098d2d",
   "metadata": {},
   "outputs": [
    {
     "data": {
      "text/plain": [
       "dict_keys(['relevance', 'id', 'external_id', 'original_id', 'label', 'webpage_url', 'logo_url', 'headline', 'application_deadline', 'number_of_vacancies', 'description', 'employment_type', 'salary_type', 'salary_description', 'duration', 'working_hours_type', 'scope_of_work', 'access', 'employer', 'application_details', 'experience_required', 'access_to_own_car', 'driving_license_required', 'driving_license', 'occupation', 'occupation_group', 'occupation_field', 'workplace_address', 'must_have', 'nice_to_have', 'application_contacts', 'publication_date', 'last_publication_date', 'removed', 'removed_date', 'source_type', 'timestamp'])"
      ]
     },
     "execution_count": 14,
     "metadata": {},
     "output_type": "execute_result"
    }
   ],
   "source": [
    "json_response[\"hits\"][1].keys()"
   ]
  },
  {
   "cell_type": "code",
   "execution_count": 16,
   "id": "6df82319",
   "metadata": {},
   "outputs": [
    {
     "data": {
      "text/plain": [
       "'JENSEN gymnasium Uppsala söker lärare i franska'"
      ]
     },
     "execution_count": 16,
     "metadata": {},
     "output_type": "execute_result"
    }
   ],
   "source": [
    "json_response[\"hits\"][1][\"headline\"]"
   ]
  },
  {
   "cell_type": "code",
   "execution_count": 19,
   "id": "2977b552",
   "metadata": {},
   "outputs": [],
   "source": [
    "json_response = _get_ads({\"q\": \"data engineer\", \"limit\": 100})\n",
    "#json_response"
   ]
  },
  {
   "cell_type": "code",
   "execution_count": 22,
   "id": "2a298fa8",
   "metadata": {},
   "outputs": [
    {
     "data": {
      "text/plain": [
       "('System Engineer with data analyst profile - Pro Robotics - Husqvarna Group',\n",
       " 'Husqvarna AB')"
      ]
     },
     "execution_count": 22,
     "metadata": {},
     "output_type": "execute_result"
    }
   ],
   "source": [
    "json_response[\"hits\"][-1][\"headline\"], json_response[\"hits\"] [-1] [\"employer\"] [\"name\"]"
   ]
  },
  {
   "cell_type": "code",
   "execution_count": null,
   "id": "1264b50c",
   "metadata": {},
   "outputs": [],
   "source": []
  }
 ],
 "metadata": {
  "kernelspec": {
   "display_name": "venv",
   "language": "python",
   "name": "python3"
  },
  "language_info": {
   "codemirror_mode": {
    "name": "ipython",
    "version": 3
   },
   "file_extension": ".py",
   "mimetype": "text/x-python",
   "name": "python",
   "nbconvert_exporter": "python",
   "pygments_lexer": "ipython3",
   "version": "3.13.2"
  }
 },
 "nbformat": 4,
 "nbformat_minor": 5
}
